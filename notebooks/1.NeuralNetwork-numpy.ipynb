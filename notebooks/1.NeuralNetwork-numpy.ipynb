{
 "cells": [
  {
   "cell_type": "code",
   "execution_count": 1,
   "metadata": {},
   "outputs": [],
   "source": [
    "import numpy as np\n",
    "import pandas as pd\n",
    "%matplotlib inline\n",
    "import matplotlib.pyplot as plt"
   ]
  },
  {
   "cell_type": "markdown",
   "metadata": {},
   "source": [
    "## Load and plot the data"
   ]
  },
  {
   "cell_type": "code",
   "execution_count": 2,
   "metadata": {},
   "outputs": [],
   "source": [
    "df = pd.read_csv('https://archive.ics.uci.edu/ml/machine-learning-databases/iris/iris.data', header=None, nrows=100)"
   ]
  },
  {
   "cell_type": "code",
   "execution_count": 3,
   "metadata": {},
   "outputs": [],
   "source": [
    "y_iris = df.iloc[0:100, 4].values\n",
    "# If it is not Setosa then it is Versicolor\n",
    "y_iris = np.where(y_iris == 'Iris-setosa', -1, 1)\n",
    "\n",
    "# Features (sepal length and petal length)\n",
    "x_iris = df.iloc[0:100, [0,2]].values"
   ]
  },
  {
   "cell_type": "code",
   "execution_count": 4,
   "metadata": {},
   "outputs": [
    {
     "data": {
      "image/png": "[encoded data removed]",
      "text/plain": [
       "<Figure size 432x288 with 1 Axes>"
      ]
     },
     "metadata": {
      "needs_background": "light"
     },
     "output_type": "display_data"
    }
   ],
   "source": [
    "plt.scatter(x_iris[:,0], x_iris[:,1], c=y_iris)\n",
    "plt.xlabel('sepal length [cm]')\n",
    "plt.ylabel('petal length [cm]')\n",
    "plt.show()"
   ]
  },
  {
   "cell_type": "markdown",
   "metadata": {},
   "source": [
    "## Implement 1-neuron network (Perceptron)"
   ]
  },
  {
   "cell_type": "code",
   "execution_count": 5,
   "metadata": {},
   "outputs": [],
   "source": [
    "class Perceptron():\n",
    "    def __init__(self, input_size):\n",
    "        self.weights = np.random.rand(input_size)\n",
    "        self.bias = np.random.rand()\n",
    "        \n",
    "    def activation(self, x):\n",
    "        # Sigmoid activation\n",
    "        return 1/(1 + np.exp(-x))\n",
    "        \n",
    "    def forward(self, x):\n",
    "        return self.activation(np.dot(x, self.weights) + self.bias) # BLANK\n",
    "    "
   ]
  },
  {
   "cell_type": "code",
   "execution_count": 6,
   "metadata": {},
   "outputs": [
    {
     "name": "stdout",
     "output_type": "stream",
     "text": [
      "[0.44591638 0.91258924] 0.6715785451394987\n"
     ]
    }
   ],
   "source": [
    "perceptron = Perceptron(2)\n",
    "print(perceptron.weights, perceptron.bias)"
   ]
  },
  {
   "cell_type": "code",
   "execution_count": 7,
   "metadata": {},
   "outputs": [
    {
     "data": {
      "text/plain": [
       "0.8839197137211197"
      ]
     },
     "execution_count": 7,
     "metadata": {},
     "output_type": "execute_result"
    }
   ],
   "source": [
    "x = np.array([1,1])\n",
    "\n",
    "perceptron.forward(x)"
   ]
  },
  {
   "cell_type": "code",
   "execution_count": 8,
   "metadata": {},
   "outputs": [
    {
     "data": {
      "text/plain": [
       "array([0.88391971, 0.96734603, 0.99139778])"
      ]
     },
     "execution_count": 8,
     "metadata": {},
     "output_type": "execute_result"
    }
   ],
   "source": [
    "# Does it also work on multiple inputs simutounasly?\n",
    "x = np.array([[1,1],[2,2], [3,3]])\n",
    "perceptron.forward(x)"
   ]
  },
  {
   "cell_type": "markdown",
   "metadata": {},
   "source": [
    "## Gradient descent"
   ]
  },
  {
   "cell_type": "code",
   "execution_count": 9,
   "metadata": {},
   "outputs": [],
   "source": [
    "def get_loss(y_predicted, y_true):\n",
    "    # Sum of squared errors\n",
    "    error = y_predicted - y_true # BLANK\n",
    "    loss = np.square(error).sum() / 2.0 # BLANK\n",
    "    return loss\n",
    "    \n",
    "def get_gradient(x, y_predicted, y_true):\n",
    "    grad_weights = x.T.dot(y_true - y_predicted) # BLANK\n",
    "    grad_bias = np.sum(y_true - y_predicted) #BLANK\n",
    "    return grad_weights, grad_bias\n",
    "    \n",
    "\n",
    "def train(network, x, y, epochs, lr):\n",
    "    losses = []\n",
    "    for epoch in range(epochs):\n",
    "        y_predicted = network.forward(x)\n",
    "        loss = get_loss(y_predicted, y)\n",
    "        grad_weights, grad_bias = get_gradient(x, y_predicted, y)\n",
    "        network.weights += lr*grad_weights # BLANK\n",
    "        network.bias += + lr*grad_bias # BLANK\n",
    "        losses.append(loss)\n",
    "    \n",
    "    return losses"
   ]
  },
  {
   "cell_type": "code",
   "execution_count": 15,
   "metadata": {},
   "outputs": [
    {
     "data": {
      "image/png": "[encoded data removed]",
      "text/plain": [
       "<Figure size 432x288 with 1 Axes>"
      ]
     },
     "metadata": {
      "needs_background": "light"
     },
     "output_type": "display_data"
    }
   ],
   "source": [
    "perceptron = Perceptron(2)\n",
    "epochs = 100\n",
    "lr = 0.00005\n",
    "losses = train(perceptron, x_iris, y_iris, epochs, lr)\n",
    "plt.plot(range(1, len(losses)+1), np.log10(losses), marker='o')\n",
    "plt.xlabel('Iterations')\n",
    "plt.ylabel('log(sum_squared_error)')\n",
    "plt.title('Learning rate '+ str(lr))\n",
    "plt.show()"
   ]
  },
  {
   "cell_type": "markdown",
   "metadata": {},
   "source": [
    "## Multilayer network"
   ]
  },
  {
   "cell_type": "code",
   "execution_count": 16,
   "metadata": {},
   "outputs": [],
   "source": [
    "class TwoLayerNN():\n",
    "    def __init__(self, input_size, hidden_size):\n",
    "        self.weights1 = np.random.rand(input_size, hidden_size)\n",
    "        self.bias1 = np.random.rand(1, hidden_size)\n",
    "        self.weights2 = np.random.rand(hidden_size)\n",
    "        self.bias2 = np.random.rand(1)\n",
    "        \n",
    "    def activation(self, x):\n",
    "        # Sigmoid activation\n",
    "        return 1/(1 + np.exp(-x))\n",
    "    \n",
    "    #Derivative of actviation(sigmoid Function_\n",
    "    def sigmoid_derivative(self, x):\n",
    "         return x * (1 - x)\n",
    "    \n",
    "    def layer1(self, x):\n",
    "        return self.activation(np.dot(x, self.weights1) + self.bias1) # BLANK\n",
    "    \n",
    "    def layer2(self, x):\n",
    "        return self.activation(np.dot(x, self.weights2) + self.bias2) # BLANK\n",
    "        \n",
    "    def forward(self, x):\n",
    "        return self.layer2(self.layer1(x))\n",
    "    \n",
    "    def update_weights(self, x, y_predicted, y_true):\n",
    "        # TODO \n",
    "        hiddenlayer_activations = self.layer1(x)\n",
    "        error = y_true - y_predicted\n",
    "        d_output = error * self.sigmoid_derivative(y_predicted)\n",
    "        d_hiddenlayer = d_output.dot(self.weights2.T) * self.sigmoid_derivative(hiddenlayer_activations)\n",
    "        grad_weights1 = x.T.dot(d_hiddenlayer)\n",
    "        grad_bias1 = np.sum(d_hiddenlayer, axis=0,keepdims=True)\n",
    "        grad_weights2 = hiddenlayer_activations.T.dot(d_output) # BLANK\n",
    "        grad_bias =  np.sum(d_output, axis=0,keepdims=True) #BLANK\n",
    "        \n",
    "        self.weights1 += grad_weights1 * lr\n",
    "        self.bias1 += grad_bias1 * lr\n",
    "        self.weights2 += grad_weights2 * lr\n",
    "        self.bias2 += grad_bias2 * lr"
   ]
  },
  {
   "cell_type": "code",
   "execution_count": 17,
   "metadata": {},
   "outputs": [
    {
     "name": "stdout",
     "output_type": "stream",
     "text": [
      "(2, 3) (1, 3) (3,) (1,)\n"
     ]
    }
   ],
   "source": [
    "network = TwoLayerNN(2, 3)\n",
    "print(network.weights1.shape, network.bias1.shape, network.weights2.shape, network.bias2.shape)"
   ]
  },
  {
   "cell_type": "code",
   "execution_count": 18,
   "metadata": {},
   "outputs": [
    {
     "data": {
      "text/plain": [
       "array([0.82088084, 0.82947596, 0.83481811])"
      ]
     },
     "execution_count": 18,
     "metadata": {},
     "output_type": "execute_result"
    }
   ],
   "source": [
    "x = [[1,1], [2,1], [1,2]]\n",
    "network.forward(x)"
   ]
  },
  {
   "cell_type": "code",
   "execution_count": 19,
   "metadata": {},
   "outputs": [],
   "source": [
    "# To do: SGD\n",
    "def get_loss(y_predicted, y_true):\n",
    "    # Sum of squared errors\n",
    "    error = y_predicted - y_true # BLANK\n",
    "    loss = np.square(error).sum() / 2.0 # BLANK\n",
    "    return loss\n",
    "\n",
    "def train(network, x, y, epochs, lr):\n",
    "    losses = []\n",
    "    for epoch in range(epochs):\n",
    "        y_predicted = network.forward(x)\n",
    "        loss = get_loss(y_predicted, y)\n",
    "        network.update_weights(x, y_predicted, y)\n",
    "        losses.append(loss)\n",
    "    \n",
    "    return losses"
   ]
  },
  {
   "cell_type": "code",
   "execution_count": 20,
   "metadata": {},
   "outputs": [
    {
     "ename": "ValueError",
     "evalue": "shapes (100,) and (3,) not aligned: 100 (dim 0) != 3 (dim 0)",
     "output_type": "error",
     "traceback": [
      "\u001b[0;31m---------------------------------------------------------------------------\u001b[0m",
      "\u001b[0;31mValueError\u001b[0m                                Traceback (most recent call last)",
      "\u001b[0;32m<ipython-input-20-cb4c76075934>\u001b[0m in \u001b[0;36m<module>\u001b[0;34m\u001b[0m\n\u001b[1;32m      2\u001b[0m \u001b[0mepochs\u001b[0m \u001b[0;34m=\u001b[0m \u001b[0;36m10\u001b[0m\u001b[0;34m\u001b[0m\u001b[0;34m\u001b[0m\u001b[0m\n\u001b[1;32m      3\u001b[0m \u001b[0mlr\u001b[0m \u001b[0;34m=\u001b[0m \u001b[0;36m0.0001\u001b[0m\u001b[0;34m\u001b[0m\u001b[0;34m\u001b[0m\u001b[0m\n\u001b[0;32m----> 4\u001b[0;31m \u001b[0mlosses\u001b[0m \u001b[0;34m=\u001b[0m \u001b[0mtrain\u001b[0m\u001b[0;34m(\u001b[0m\u001b[0mperceptron\u001b[0m\u001b[0;34m,\u001b[0m \u001b[0mx_iris\u001b[0m\u001b[0;34m,\u001b[0m \u001b[0my_iris\u001b[0m\u001b[0;34m,\u001b[0m \u001b[0mepochs\u001b[0m\u001b[0;34m,\u001b[0m \u001b[0mlr\u001b[0m\u001b[0;34m)\u001b[0m\u001b[0;34m\u001b[0m\u001b[0;34m\u001b[0m\u001b[0m\n\u001b[0m\u001b[1;32m      5\u001b[0m \u001b[0mplt\u001b[0m\u001b[0;34m.\u001b[0m\u001b[0mplot\u001b[0m\u001b[0;34m(\u001b[0m\u001b[0mrange\u001b[0m\u001b[0;34m(\u001b[0m\u001b[0;36m1\u001b[0m\u001b[0;34m,\u001b[0m \u001b[0mlen\u001b[0m\u001b[0;34m(\u001b[0m\u001b[0mlosses\u001b[0m\u001b[0;34m)\u001b[0m\u001b[0;34m+\u001b[0m\u001b[0;36m1\u001b[0m\u001b[0;34m)\u001b[0m\u001b[0;34m,\u001b[0m \u001b[0mnp\u001b[0m\u001b[0;34m.\u001b[0m\u001b[0mlog10\u001b[0m\u001b[0;34m(\u001b[0m\u001b[0mlosses\u001b[0m\u001b[0;34m)\u001b[0m\u001b[0;34m,\u001b[0m \u001b[0mmarker\u001b[0m\u001b[0;34m=\u001b[0m\u001b[0;34m'o'\u001b[0m\u001b[0;34m)\u001b[0m\u001b[0;34m\u001b[0m\u001b[0;34m\u001b[0m\u001b[0m\n\u001b[1;32m      6\u001b[0m \u001b[0mplt\u001b[0m\u001b[0;34m.\u001b[0m\u001b[0mxlabel\u001b[0m\u001b[0;34m(\u001b[0m\u001b[0;34m'Iterations'\u001b[0m\u001b[0;34m)\u001b[0m\u001b[0;34m\u001b[0m\u001b[0;34m\u001b[0m\u001b[0m\n",
      "\u001b[0;32m<ipython-input-19-6c8ae97c89c4>\u001b[0m in \u001b[0;36mtrain\u001b[0;34m(network, x, y, epochs, lr)\u001b[0m\n\u001b[1;32m     11\u001b[0m         \u001b[0my_predicted\u001b[0m \u001b[0;34m=\u001b[0m \u001b[0mnetwork\u001b[0m\u001b[0;34m.\u001b[0m\u001b[0mforward\u001b[0m\u001b[0;34m(\u001b[0m\u001b[0mx\u001b[0m\u001b[0;34m)\u001b[0m\u001b[0;34m\u001b[0m\u001b[0;34m\u001b[0m\u001b[0m\n\u001b[1;32m     12\u001b[0m         \u001b[0mloss\u001b[0m \u001b[0;34m=\u001b[0m \u001b[0mget_loss\u001b[0m\u001b[0;34m(\u001b[0m\u001b[0my_predicted\u001b[0m\u001b[0;34m,\u001b[0m \u001b[0my\u001b[0m\u001b[0;34m)\u001b[0m\u001b[0;34m\u001b[0m\u001b[0;34m\u001b[0m\u001b[0m\n\u001b[0;32m---> 13\u001b[0;31m         \u001b[0mnetwork\u001b[0m\u001b[0;34m.\u001b[0m\u001b[0mupdate_weights\u001b[0m\u001b[0;34m(\u001b[0m\u001b[0mx\u001b[0m\u001b[0;34m,\u001b[0m \u001b[0my_predicted\u001b[0m\u001b[0;34m,\u001b[0m \u001b[0my\u001b[0m\u001b[0;34m)\u001b[0m\u001b[0;34m\u001b[0m\u001b[0;34m\u001b[0m\u001b[0m\n\u001b[0m\u001b[1;32m     14\u001b[0m         \u001b[0mlosses\u001b[0m\u001b[0;34m.\u001b[0m\u001b[0mappend\u001b[0m\u001b[0;34m(\u001b[0m\u001b[0mloss\u001b[0m\u001b[0;34m)\u001b[0m\u001b[0;34m\u001b[0m\u001b[0;34m\u001b[0m\u001b[0m\n\u001b[1;32m     15\u001b[0m \u001b[0;34m\u001b[0m\u001b[0m\n",
      "\u001b[0;32m<ipython-input-16-44a2652803a5>\u001b[0m in \u001b[0;36mupdate_weights\u001b[0;34m(self, x, y_predicted, y_true)\u001b[0m\n\u001b[1;32m     28\u001b[0m         \u001b[0merror\u001b[0m \u001b[0;34m=\u001b[0m \u001b[0my_true\u001b[0m \u001b[0;34m-\u001b[0m \u001b[0my_predicted\u001b[0m\u001b[0;34m\u001b[0m\u001b[0;34m\u001b[0m\u001b[0m\n\u001b[1;32m     29\u001b[0m         \u001b[0md_output\u001b[0m \u001b[0;34m=\u001b[0m \u001b[0merror\u001b[0m \u001b[0;34m*\u001b[0m \u001b[0mself\u001b[0m\u001b[0;34m.\u001b[0m\u001b[0msigmoid_derivative\u001b[0m\u001b[0;34m(\u001b[0m\u001b[0my_predicted\u001b[0m\u001b[0;34m)\u001b[0m\u001b[0;34m\u001b[0m\u001b[0;34m\u001b[0m\u001b[0m\n\u001b[0;32m---> 30\u001b[0;31m         \u001b[0md_hiddenlayer\u001b[0m \u001b[0;34m=\u001b[0m \u001b[0md_output\u001b[0m\u001b[0;34m.\u001b[0m\u001b[0mdot\u001b[0m\u001b[0;34m(\u001b[0m\u001b[0mself\u001b[0m\u001b[0;34m.\u001b[0m\u001b[0mweights2\u001b[0m\u001b[0;34m.\u001b[0m\u001b[0mT\u001b[0m\u001b[0;34m)\u001b[0m \u001b[0;34m*\u001b[0m \u001b[0mself\u001b[0m\u001b[0;34m.\u001b[0m\u001b[0msigmoid_derivative\u001b[0m\u001b[0;34m(\u001b[0m\u001b[0mhiddenlayer_activations\u001b[0m\u001b[0;34m)\u001b[0m\u001b[0;34m\u001b[0m\u001b[0;34m\u001b[0m\u001b[0m\n\u001b[0m\u001b[1;32m     31\u001b[0m         \u001b[0mgrad_weights1\u001b[0m \u001b[0;34m=\u001b[0m \u001b[0mx\u001b[0m\u001b[0;34m.\u001b[0m\u001b[0mT\u001b[0m\u001b[0;34m.\u001b[0m\u001b[0mdot\u001b[0m\u001b[0;34m(\u001b[0m\u001b[0md_hiddenlayer\u001b[0m\u001b[0;34m)\u001b[0m\u001b[0;34m\u001b[0m\u001b[0;34m\u001b[0m\u001b[0m\n\u001b[1;32m     32\u001b[0m         \u001b[0mgrad_bias1\u001b[0m \u001b[0;34m=\u001b[0m \u001b[0mnp\u001b[0m\u001b[0;34m.\u001b[0m\u001b[0msum\u001b[0m\u001b[0;34m(\u001b[0m\u001b[0md_hiddenlayer\u001b[0m\u001b[0;34m,\u001b[0m \u001b[0maxis\u001b[0m\u001b[0;34m=\u001b[0m\u001b[0;36m0\u001b[0m\u001b[0;34m,\u001b[0m\u001b[0mkeepdims\u001b[0m\u001b[0;34m=\u001b[0m\u001b[0;32mTrue\u001b[0m\u001b[0;34m)\u001b[0m\u001b[0;34m\u001b[0m\u001b[0;34m\u001b[0m\u001b[0m\n",
      "\u001b[0;31mValueError\u001b[0m: shapes (100,) and (3,) not aligned: 100 (dim 0) != 3 (dim 0)"
     ]
    }
   ],
   "source": [
    "perceptron = TwoLayerNN(2, 3)\n",
    "epochs = 10\n",
    "lr = 0.0001\n",
    "losses = train(perceptron, x_iris, y_iris, epochs, lr)\n",
    "plt.plot(range(1, len(losses)+1), np.log10(losses), marker='o')\n",
    "plt.xlabel('Iterations')\n",
    "plt.ylabel('log(sum_squared_error)')\n",
    "plt.title('Learning rate '+ str(lr))\n",
    "plt.show()"
   ]
  },
  {
   "cell_type": "code",
   "execution_count": null,
   "metadata": {},
   "outputs": [],
   "source": []
  }
 ],
 "metadata": {
  "kernelspec": {
   "display_name": "Python 3",
   "language": "python",
   "name": "python3"
  },
  "language_info": {
   "codemirror_mode": {
    "name": "ipython",
    "version": 3
   },
   "file_extension": ".py",
   "mimetype": "text/x-python",
   "name": "python",
   "nbconvert_exporter": "python",
   "pygments_lexer": "ipython3",
   "version": "3.7.4"
  }
 },
 "nbformat": 4,
 "nbformat_minor": 2
}
